{
 "cells": [
  {
   "cell_type": "code",
   "execution_count": null,
   "id": "6190c8c3",
   "metadata": {},
   "outputs": [],
   "source": [
    "import pandas as pd\n",
    "import numpy as np\n",
    "import matplotlib.pyplot as plt\n",
    "import seaborn as sns\n",
    "import nltk\n",
    "import os\n",
    "from tqdm import tqdm\n",
    "plt.style.use('ggplot')\n",
    "\n"
   ]
  },
  {
   "cell_type": "code",
   "execution_count": null,
   "id": "f32608a3",
   "metadata": {},
   "outputs": [],
   "source": []
  },
  {
   "cell_type": "code",
   "execution_count": null,
   "id": "3e9ea5dc",
   "metadata": {},
   "outputs": [],
   "source": [
    "f = open(\"path.txt\", \"r\")\n",
    "address = f.read()\n",
    "print (address) "
   ]
  },
  {
   "cell_type": "code",
   "execution_count": null,
   "id": "76bbe4f4",
   "metadata": {
    "scrolled": true
   },
   "outputs": [],
   "source": [
    "#read in data\n",
    "df=pd.read_csv(address)\n",
    "print(df.shape) \n",
    "df=df.head(500) #this line to limit data\n",
    "#print(df.shape) #since the dataframe is of around half a million we will be downsizing it to 500\n",
    "df.head()"
   ]
  },
  {
   "cell_type": "code",
   "execution_count": null,
   "id": "70e5f762",
   "metadata": {},
   "outputs": [],
   "source": [
    "#the \"score\" part of this data can be directly analyzed\n",
    "\n",
    "#Quick EDA\n",
    "\n",
    "ax = df['Score'].value_counts().sort_index() \\\n",
    ".plot(kind='bar',\n",
    "          title='Count of Reviews by Stars',\n",
    "          figsize=(10, 5))\n",
    "ax.set_xlabel('Review Stars')\n",
    "plt.savefig('C:/Users/saksh/sem6 project/results/count of review by stars.png')\n",
    "plt.show()\n",
    "\n",
    "\n",
    "#my_path = os.path.abspath(__file__) # Figures out the absolute path for you in case your working directory moves around.\n",
    "#my_file = 'graph.png'\n",
    "#plt.savefig(os.path.join(my_path, my_file))  "
   ]
  },
  {
   "cell_type": "code",
   "execution_count": null,
   "id": "907f3745",
   "metadata": {},
   "outputs": [],
   "source": [
    "# after this EDA we can see that this dataset is very biased towards positive reviews\n"
   ]
  },
  {
   "cell_type": "markdown",
   "id": "58e3cfd5",
   "metadata": {},
   "source": [
    "# Basic NLTK example"
   ]
  },
  {
   "cell_type": "code",
   "execution_count": null,
   "id": "5443d16b",
   "metadata": {},
   "outputs": [],
   "source": [
    "example = df['Text'][50]\n",
    "print (example)"
   ]
  },
  {
   "cell_type": "code",
   "execution_count": null,
   "id": "1eedede1",
   "metadata": {
    "scrolled": true
   },
   "outputs": [],
   "source": [
    "tokens = nltk.word_tokenize(example)\n",
    "tokens[:10]"
   ]
  },
  {
   "cell_type": "code",
   "execution_count": null,
   "id": "e8d7e63f",
   "metadata": {},
   "outputs": [],
   "source": [
    "#https://pythonexamples.org/nltk-pos-tagging/\n",
    "\n",
    "tagged = nltk.pos_tag(tokens)\n",
    "tagged [:10]"
   ]
  },
  {
   "cell_type": "code",
   "execution_count": null,
   "id": "e3da5298",
   "metadata": {},
   "outputs": [],
   "source": [
    "entities = nltk.chunk.ne_chunk(tagged)\n",
    "entities.pprint()"
   ]
  },
  {
   "cell_type": "markdown",
   "id": "4dfdda26",
   "metadata": {},
   "source": [
    "# VADER (Valence Aware Dictionary and Sentiment Reasoner) sentiment scoring\n",
    "\n",
    "#we will use nltk's SentimentIntensityAnalyser to get negative/neutral/positive scores on the text\n",
    "\n",
    "#This uses a \"bag of words approach\"\n",
    "\n",
    "    1. stop words are removed\n",
    "    2. each word is scored and combined to a total score"
   ]
  },
  {
   "cell_type": "code",
   "execution_count": null,
   "id": "f48ed3b1",
   "metadata": {},
   "outputs": [],
   "source": [
    "from nltk.sentiment import SentimentIntensityAnalyzer\n",
    "from tqdm.notebook import tqdm\n",
    "\n",
    "sia = SentimentIntensityAnalyzer()"
   ]
  },
  {
   "cell_type": "code",
   "execution_count": null,
   "id": "18016b72",
   "metadata": {},
   "outputs": [],
   "source": [
    "sia.polarity_scores('I am so Happy!') #example(positive)"
   ]
  },
  {
   "cell_type": "code",
   "execution_count": null,
   "id": "a865f07d",
   "metadata": {},
   "outputs": [],
   "source": [
    "sia.polarity_scores('This is the worst thing ever.') #example(negative)"
   ]
  },
  {
   "cell_type": "code",
   "execution_count": null,
   "id": "28888481",
   "metadata": {},
   "outputs": [],
   "source": [
    "sia.polarity_scores(example)#running the polarity on example from before"
   ]
  },
  {
   "cell_type": "code",
   "execution_count": null,
   "id": "0c09b7a4",
   "metadata": {},
   "outputs": [],
   "source": [
    "#now we run the polarity score on the entire dataset\n",
    "res = {}\n",
    "for i, row in tqdm(df.iterrows(), total=len(df)):\n",
    "    text = row['Text']\n",
    "    myid = row['Id']\n",
    "    res[myid] = sia.polarity_scores(text)"
   ]
  },
  {
   "cell_type": "code",
   "execution_count": null,
   "id": "15f7e651",
   "metadata": {},
   "outputs": [],
   "source": [
    "vaders = pd.DataFrame(res).T\n",
    "vaders = vaders.reset_index().rename(columns={'index' : 'Id'})\n",
    "vaders = vaders.merge(df , how = 'left')"
   ]
  },
  {
   "cell_type": "code",
   "execution_count": null,
   "id": "35195457",
   "metadata": {},
   "outputs": [],
   "source": [
    "#now we have sentiment score and metadata\n",
    "vaders"
   ]
  },
  {
   "cell_type": "markdown",
   "id": "18ae472a",
   "metadata": {},
   "source": [
    "# Plot the vader results in a barchart"
   ]
  },
  {
   "cell_type": "code",
   "execution_count": null,
   "id": "a10b3b60",
   "metadata": {},
   "outputs": [],
   "source": [
    "ax = sns.barplot(data=vaders, x='Score', y='compound')\n",
    "ax.set_title('Compund Score by Amazon Star Review')\n",
    "plt.savefig('C:/Users/saksh/sem6 project/results/Compund Score by Amazon Star Review.png')\n",
    "plt.show()"
   ]
  },
  {
   "cell_type": "code",
   "execution_count": null,
   "id": "dbfea8d8",
   "metadata": {},
   "outputs": [],
   "source": [
    "fig, axs = plt.subplots(1, 3, figsize=(12, 3))\n",
    "sns.barplot(data=vaders, x='Score', y='pos', ax=axs[0])\n",
    "sns.barplot(data=vaders, x='Score', y='neu', ax=axs[1])\n",
    "sns.barplot(data=vaders, x='Score', y='neg', ax=axs[2])\n",
    "axs[0].set_title('Positive')\n",
    "axs[1].set_title('Neutral')\n",
    "axs[2].set_title('Negative')\n",
    "plt.tight_layout()\n",
    "plt.savefig('C:/Users/saksh/sem6 project/results/positive,negative,neutral.png')\n",
    "plt.show()"
   ]
  },
  {
   "cell_type": "code",
   "execution_count": null,
   "id": "b84f71a9",
   "metadata": {},
   "outputs": [],
   "source": [
    "\n",
    "path = r'C:/Users/saksh/sem6 project/results'\n",
    "os.startfile(path)"
   ]
  }
 ],
 "metadata": {
  "kernelspec": {
   "display_name": "Python 3 (ipykernel)",
   "language": "python",
   "name": "python3"
  },
  "language_info": {
   "codemirror_mode": {
    "name": "ipython",
    "version": 3
   },
   "file_extension": ".py",
   "mimetype": "text/x-python",
   "name": "python",
   "nbconvert_exporter": "python",
   "pygments_lexer": "ipython3",
   "version": "3.11.2"
  },
  "vscode": {
   "interpreter": {
    "hash": "601872f307ae9546d3821606f8739a0ae5d2b99c1de7e11b2d78449b8e8fd349"
   }
  }
 },
 "nbformat": 4,
 "nbformat_minor": 5
}
